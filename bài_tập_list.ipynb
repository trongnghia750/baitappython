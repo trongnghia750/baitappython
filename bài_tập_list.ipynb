{
  "nbformat": 4,
  "nbformat_minor": 0,
  "metadata": {
    "colab": {
      "provenance": [],
      "collapsed_sections": [],
      "include_colab_link": true
    },
    "kernelspec": {
      "name": "python3",
      "display_name": "Python 3"
    },
    "language_info": {
      "name": "python"
    }
  },
  "cells": [
    {
      "cell_type": "markdown",
      "metadata": {
        "id": "view-in-github",
        "colab_type": "text"
      },
      "source": [
        "<a href=\"https://colab.research.google.com/github/trongnghia750/baitappython/blob/main/b%C3%A0i_t%E1%BA%ADp_list.ipynb\" target=\"_parent\"><img src=\"https://colab.research.google.com/assets/colab-badge.svg\" alt=\"Open In Colab\"/></a>"
      ]
    },
    {
      "cell_type": "code",
      "execution_count": null,
      "metadata": {
        "colab": {
          "base_uri": "https://localhost:8080/"
        },
        "id": "AVtlMbyMdd-o",
        "outputId": "409aee90-1584-4a32-b3c0-a62add13e1c4"
      },
      "outputs": [
        {
          "output_type": "stream",
          "name": "stdout",
          "text": [
            "[18, 'Huế', 12, 45, -1, -0.56, 'abc']\n"
          ]
        }
      ],
      "source": [
        "x=[]\n",
        "list1 = [18]\n",
        "list2 = ['Huế']\n",
        "x= list1 + list2\n",
        "y = [12,45,-1,-0.56,'abc']\n",
        "x= list1 + list2 + y\n",
        "print (x)\n"
      ]
    },
    {
      "cell_type": "code",
      "source": [
        "x[:]\n"
      ],
      "metadata": {
        "colab": {
          "base_uri": "https://localhost:8080/"
        },
        "id": "RdzFSiF0nMj0",
        "outputId": "ce7526bd-10ba-41d7-eb9d-6ac4a7607016"
      },
      "execution_count": null,
      "outputs": [
        {
          "output_type": "execute_result",
          "data": {
            "text/plain": [
              "[18, 'Huế', 12, 45, -1, -0.56, 'abc']"
            ]
          },
          "metadata": {},
          "execution_count": 98
        }
      ]
    },
    {
      "cell_type": "code",
      "source": [
        "\n",
        "x[:5]\n"
      ],
      "metadata": {
        "colab": {
          "base_uri": "https://localhost:8080/"
        },
        "id": "ATFhMV55nQlh",
        "outputId": "0cf32360-4eff-4908-eb6c-738b31d709dc"
      },
      "execution_count": null,
      "outputs": [
        {
          "output_type": "execute_result",
          "data": {
            "text/plain": [
              "[18, 'Huế', 12, 45, -1]"
            ]
          },
          "metadata": {},
          "execution_count": 101
        }
      ]
    },
    {
      "cell_type": "code",
      "source": [
        "x[3:]"
      ],
      "metadata": {
        "colab": {
          "base_uri": "https://localhost:8080/"
        },
        "id": "4QG9gHLjnUtC",
        "outputId": "010bb969-ce2d-41a3-f19d-7f496cc3d09b"
      },
      "execution_count": null,
      "outputs": [
        {
          "output_type": "execute_result",
          "data": {
            "text/plain": [
              "[45, -1, -0.56, 'abc']"
            ]
          },
          "metadata": {},
          "execution_count": 102
        }
      ]
    }
  ]
}