{
  "nbformat": 4,
  "nbformat_minor": 0,
  "metadata": {
    "colab": {
      "provenance": [],
      "collapsed_sections": [],
      "include_colab_link": true
    },
    "kernelspec": {
      "name": "python3",
      "display_name": "Python 3"
    },
    "language_info": {
      "name": "python"
    }
  },
  "cells": [
    {
      "cell_type": "markdown",
      "metadata": {
        "id": "view-in-github",
        "colab_type": "text"
      },
      "source": [
        "<a href=\"https://colab.research.google.com/github/trongnghia750/baitappython/blob/main/BT_3.ipynb\" target=\"_parent\"><img src=\"https://colab.research.google.com/assets/colab-badge.svg\" alt=\"Open In Colab\"/></a>"
      ]
    },
    {
      "cell_type": "code",
      "execution_count": null,
      "metadata": {
        "id": "veQirneOo-c4"
      },
      "outputs": [],
      "source": [
        "A={'NNLT Python', 'Đại số tuyến tính', 'Tiếng Anh chuyên ngành', 'Thể dục'}"
      ]
    },
    {
      "cell_type": "code",
      "source": [
        "B = {'NNLT Python', 'Đại số tuyến tính', 'Tối ưu hóa', 'Học Máy', 'Học sâu', 'Computer vision', 'Natural Language Processing', 'Recommender Systems'}\n"
      ],
      "metadata": {
        "id": "IsLA1Bo5pZhY"
      },
      "execution_count": null,
      "outputs": []
    },
    {
      "cell_type": "code",
      "source": [
        "print(A)\n",
        "print(B)"
      ],
      "metadata": {
        "colab": {
          "base_uri": "https://localhost:8080/"
        },
        "id": "9TAg_IZ-qF-6",
        "outputId": "0ee66261-002c-4f99-d636-d81e4aaa206e"
      },
      "execution_count": null,
      "outputs": [
        {
          "output_type": "stream",
          "name": "stdout",
          "text": [
            "{'NNLT Python', 'Thể dục', 'Tiếng Anh chuyên ngành', 'Đại số tuyến tính'}\n",
            "{'Học sâu', 'Recommender Systems', 'Đại số tuyến tính', 'NNLT Python', 'Học Máy', 'Computer vision', 'Tối ưu hóa', 'Natural Language Processing'}\n"
          ]
        }
      ]
    },
    {
      "cell_type": "code",
      "source": [
        "A|B"
      ],
      "metadata": {
        "colab": {
          "base_uri": "https://localhost:8080/"
        },
        "id": "2QEYWEywqLtl",
        "outputId": "6a99e754-0c4f-4b8e-b9e2-559b733f2750"
      },
      "execution_count": null,
      "outputs": [
        {
          "output_type": "execute_result",
          "data": {
            "text/plain": [
              "{'Computer vision',\n",
              " 'Học Máy',\n",
              " 'Học sâu',\n",
              " 'NNLT Python',\n",
              " 'Natural Language Processing',\n",
              " 'Recommender Systems',\n",
              " 'Thể dục',\n",
              " 'Tiếng Anh chuyên ngành',\n",
              " 'Tối ưu hóa',\n",
              " 'Đại số tuyến tính'}"
            ]
          },
          "metadata": {},
          "execution_count": 9
        }
      ]
    },
    {
      "cell_type": "code",
      "source": [
        "A & B"
      ],
      "metadata": {
        "colab": {
          "base_uri": "https://localhost:8080/"
        },
        "id": "sxsUCmNDrBe6",
        "outputId": "91fbae7b-31bf-4f35-b6f4-077ecead2372"
      },
      "execution_count": null,
      "outputs": [
        {
          "output_type": "execute_result",
          "data": {
            "text/plain": [
              "{'NNLT Python', 'Đại số tuyến tính'}"
            ]
          },
          "metadata": {},
          "execution_count": 11
        }
      ]
    },
    {
      "cell_type": "code",
      "source": [
        "print(A-B)\n"
      ],
      "metadata": {
        "colab": {
          "base_uri": "https://localhost:8080/"
        },
        "id": "JyWZwGX9rqph",
        "outputId": "3b2aeb35-be46-4425-a664-a07fa076e4d5"
      },
      "execution_count": null,
      "outputs": [
        {
          "output_type": "stream",
          "name": "stdout",
          "text": [
            "{'Thể dục', 'Tiếng Anh chuyên ngành'}\n"
          ]
        }
      ]
    },
    {
      "cell_type": "code",
      "source": [
        "print(B-A)"
      ],
      "metadata": {
        "colab": {
          "base_uri": "https://localhost:8080/"
        },
        "id": "IJMzT41FrxCG",
        "outputId": "221d157e-ebb4-4073-b80b-2b2750c0fc21"
      },
      "execution_count": null,
      "outputs": [
        {
          "output_type": "stream",
          "name": "stdout",
          "text": [
            "{'Học sâu', 'Học Máy', 'Natural Language Processing', 'Computer vision', 'Tối ưu hóa', 'Recommender Systems'}\n"
          ]
        }
      ]
    },
    {
      "cell_type": "code",
      "source": [
        "x=[1,1,1,2,2,3,3,3,4,5,6,7]"
      ],
      "metadata": {
        "id": "69uKKqRZts_E"
      },
      "execution_count": null,
      "outputs": []
    },
    {
      "cell_type": "code",
      "source": [
        "print(x)"
      ],
      "metadata": {
        "colab": {
          "base_uri": "https://localhost:8080/"
        },
        "id": "N9zSETk7t4Q_",
        "outputId": "0b590c9b-7fa8-4280-baff-2c6371f3786a"
      },
      "execution_count": null,
      "outputs": [
        {
          "output_type": "stream",
          "name": "stdout",
          "text": [
            "[1, 1, 1, 2, 2, 3, 3, 3, 4, 5, 6, 7]\n"
          ]
        }
      ]
    },
    {
      "cell_type": "code",
      "source": [
        "t=set(x)\n",
        "print(t)"
      ],
      "metadata": {
        "colab": {
          "base_uri": "https://localhost:8080/"
        },
        "id": "sWkgb5-Jt5r3",
        "outputId": "535b3979-9830-4ba6-ae48-ba6a2739d160"
      },
      "execution_count": null,
      "outputs": [
        {
          "output_type": "stream",
          "name": "stdout",
          "text": [
            "{1, 2, 3, 4, 5, 6, 7}\n"
          ]
        }
      ]
    }
  ]
}